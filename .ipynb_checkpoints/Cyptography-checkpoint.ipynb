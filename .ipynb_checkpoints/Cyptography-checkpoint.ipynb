{
 "cells": [
  {
   "cell_type": "code",
   "execution_count": 87,
   "id": "c4367937",
   "metadata": {},
   "outputs": [],
   "source": [
    "caesar_text = \"Ur tq tmp mzkftuzs oazrupqzfumx fa emk, tq idafq uf uz oubtqd, ftmf ue, nk ea otmzsuzs ftq adpqd ar ftq xqffqde ar ftq mxbtmnqf, ftmf zaf m iadp oagxp nq ympq agf.\""
   ]
  },
  {
   "cell_type": "code",
   "execution_count": 88,
   "id": "49d08051",
   "metadata": {},
   "outputs": [
    {
     "name": "stdout",
     "output_type": "stream",
     "text": [
      "Ur tq tmp mzkftuzs oazrupqzfumx fa emk, tq idafq uf uz oubtqd, ftmf ue, nk ea otmzsuzs ftq adpqd ar ftq xqffqde ar ftq mxbtmnqf, ftmf zaf m iadp oagxp nq ympq agf.\n"
     ]
    }
   ],
   "source": [
    "print(caesar_text)"
   ]
  },
  {
   "cell_type": "code",
   "execution_count": 89,
   "id": "0864cfa5",
   "metadata": {},
   "outputs": [],
   "source": [
    "def shift_text(text, shift):\n",
    "    \n",
    "    \n",
    "    caesar_text_list = text.split(\" \")\n",
    "    shifted_text = []\n",
    "    \n",
    "    for word in caesar_text_list:\n",
    "        shifted_word = \"\"\n",
    "        for char in word:\n",
    "            if not char.isalnum():\n",
    "                shifted_word += char\n",
    "                continue\n",
    "            if(char.isupper()):\n",
    "                shifted_word += chr((ord(char) + shift - 65) % 26 + 65)\n",
    "            else:\n",
    "                shifted_word += chr((ord(char) + shift - 97) % 26 + 97)\n",
    "        shifted_text.append(shifted_word)\n",
    "        \n",
    "        \n",
    "    return \" \".join(shifted_text)\n"
   ]
  },
  {
   "cell_type": "code",
   "execution_count": 90,
   "id": "06afe3a4",
   "metadata": {
    "scrolled": true
   },
   "outputs": [
    {
     "name": "stdout",
     "output_type": "stream",
     "text": [
      "If he had anything confidential to say, he wrote it in cipher, that is, by so changing the order of the letters of the alphabet, that not a word could be made out.\n"
     ]
    }
   ],
   "source": [
    "print(shift_text(caesar_text, 14))\n"
   ]
  },
  {
   "cell_type": "code",
   "execution_count": 114,
   "id": "d84d4f67",
   "metadata": {},
   "outputs": [],
   "source": [
    "test_str = \"Alan Mathison Turing OBE FRS (/ˈtjʊərɪŋ/; 23 June 1912 – 7 June 1954) was an English mathematician, computer scientist, logician, cryptanalyst, philosopher, and theoretical biologist.[6] Turing was highly influential in the development of theoretical computer science, providing a formalisation of the concepts of algorithm and computation with the Turing machine, which can be considered a model of a general-purpose computer.[7][8][9] He is widely considered to be the father of theoretical computer science and artificial intelligence.[10]Born in Maida Vale, London, Turing was raised in southern England. He graduated at King's College, Cambridge, with a degree in mathematics. Whilst he was a fellow at Cambridge, he published a proof demonstrating that some purely mathematical yes–no questions can never be answered by computation and defined a Turing machine, and went on to prove that the halting problem for Turing machines is undecidable. In 1938, he obtained his PhD from the Department of Mathematics at Princeton University. During the Second World War, Turing worked for the Government Code and Cypher School (GC&CS) at Bletchley Park, Britain's codebreaking centre that produced Ultra intelligence. For a time he led Hut 8, the section that was responsible for German naval cryptanalysis. Here, he devised a number of techniques for speeding the breaking of German ciphers, including improvements to the pre-war Polish bomba method, an electromechanical machine that could find settings for the Enigma machine. Turing played a crucial role in cracking intercepted coded messages that enabled the Allies to defeat the Axis powers in many crucial engagements, including the Battle of the Atlantic.[11][12]\"\n",
    "\n"
   ]
  },
  {
   "cell_type": "code",
   "execution_count": 136,
   "id": "a88d8be3",
   "metadata": {},
   "outputs": [],
   "source": [
    "letter_occurances = {}\n",
    "\n",
    "punc = '''!()-[]{};:'\"\\,<>./?@#$%^&*_~'''\n",
    " \n",
    "# Removing punctuations in string\n",
    "# Using loop + punctuation string\n",
    "for ele in test_str:\n",
    "    if ele in punc:\n",
    "        test_str = test_str.replace(ele, \"\")\n",
    " \n",
    "# printing result\n",
    "\n",
    "for letter in test_str:\n",
    "    if not letter.isalpha():\n",
    "        continue\n",
    "    if letter not in letter_occurances:\n",
    "        letter_occurances[letter.lower()] = 1\n",
    "    else:\n",
    "        letter_occurances[letter.lower()] += 1\n",
    "\n",
    "        \n",
    "size = sum(letter_occurances.values())\n",
    "\n",
    "for key in letter_occurances:\n",
    "    letter_occurances[key] = letter_occurances[key] / size * 100\n",
    "\n",
    "\n",
    "\n",
    "\n"
   ]
  },
  {
   "cell_type": "code",
   "execution_count": 137,
   "id": "a84aa3f5",
   "metadata": {},
   "outputs": [
    {
     "data": {
      "text/plain": [
       "([<matplotlib.axis.XTick at 0x19973e5f790>,\n",
       "  <matplotlib.axis.XTick at 0x19973e5f760>,\n",
       "  <matplotlib.axis.XTick at 0x19973e573a0>,\n",
       "  <matplotlib.axis.XTick at 0x19973ebdc40>,\n",
       "  <matplotlib.axis.XTick at 0x19973ec91c0>,\n",
       "  <matplotlib.axis.XTick at 0x19973ec9850>,\n",
       "  <matplotlib.axis.XTick at 0x19973ed00a0>,\n",
       "  <matplotlib.axis.XTick at 0x19973ed0730>,\n",
       "  <matplotlib.axis.XTick at 0x19973ed0e80>,\n",
       "  <matplotlib.axis.XTick at 0x19973ed6610>,\n",
       "  <matplotlib.axis.XTick at 0x19973ed0760>,\n",
       "  <matplotlib.axis.XTick at 0x19973ec9820>,\n",
       "  <matplotlib.axis.XTick at 0x19973ed6cd0>,\n",
       "  <matplotlib.axis.XTick at 0x19973edf460>,\n",
       "  <matplotlib.axis.XTick at 0x19973edfbb0>,\n",
       "  <matplotlib.axis.XTick at 0x19973ee5340>,\n",
       "  <matplotlib.axis.XTick at 0x19973ee5a90>,\n",
       "  <matplotlib.axis.XTick at 0x19973edf640>,\n",
       "  <matplotlib.axis.XTick at 0x19973ed01c0>,\n",
       "  <matplotlib.axis.XTick at 0x19973ee5e80>,\n",
       "  <matplotlib.axis.XTick at 0x19973eee640>,\n",
       "  <matplotlib.axis.XTick at 0x19973eeed90>,\n",
       "  <matplotlib.axis.XTick at 0x19973ef5520>,\n",
       "  <matplotlib.axis.XTick at 0x19973eeedf0>,\n",
       "  <matplotlib.axis.XTick at 0x19973ee5610>,\n",
       "  <matplotlib.axis.XTick at 0x19973ef56d0>,\n",
       "  <matplotlib.axis.XTick at 0x19973efc1c0>,\n",
       "  <matplotlib.axis.XTick at 0x19973efc910>,\n",
       "  <matplotlib.axis.XTick at 0x19973f01160>,\n",
       "  <matplotlib.axis.XTick at 0x19973f017f0>],\n",
       " [Text(0, 0, 'a'),\n",
       "  Text(1, 0, 'b'),\n",
       "  Text(2, 0, 'c'),\n",
       "  Text(3, 0, 'd'),\n",
       "  Text(4, 0, 'e'),\n",
       "  Text(5, 0, 'f'),\n",
       "  Text(6, 0, 'g'),\n",
       "  Text(7, 0, 'h'),\n",
       "  Text(8, 0, 'i'),\n",
       "  Text(9, 0, 'j'),\n",
       "  Text(10, 0, 'k'),\n",
       "  Text(11, 0, 'l'),\n",
       "  Text(12, 0, 'm'),\n",
       "  Text(13, 0, 'n'),\n",
       "  Text(14, 0, 'o'),\n",
       "  Text(15, 0, 'p'),\n",
       "  Text(16, 0, 'q'),\n",
       "  Text(17, 0, 'r'),\n",
       "  Text(18, 0, 's'),\n",
       "  Text(19, 0, 't'),\n",
       "  Text(20, 0, 'u'),\n",
       "  Text(21, 0, 'v'),\n",
       "  Text(22, 0, 'w'),\n",
       "  Text(23, 0, 'x'),\n",
       "  Text(24, 0, 'y'),\n",
       "  Text(25, 0, 'ŋ'),\n",
       "  Text(26, 0, 'ə'),\n",
       "  Text(27, 0, 'ɪ'),\n",
       "  Text(28, 0, 'ʊ'),\n",
       "  Text(29, 0, 'ˈ')])"
      ]
     },
     "execution_count": 137,
     "metadata": {},
     "output_type": "execute_result"
    },
    {
     "data": {
      "image/png": "[encoded data removed]",
      "text/plain": [
       "<Figure size 432x288 with 1 Axes>"
      ]
     },
     "metadata": {
      "needs_background": "light"
     },
     "output_type": "display_data"
    }
   ],
   "source": [
    "import matplotlib.pyplot as plt\n",
    "\n",
    "D = {u'Label1':26, u'Label2': 17, u'Label3':30}\n",
    "\n",
    "letter_occurances = {key: value for key, value in sorted(letter_occurances.items())}\n",
    "\n",
    "plt.bar(range(len(letter_occurances)), list(letter_occurances.values()), align='center')\n",
    "plt.xticks(range(len(letter_occurances)), list(letter_occurances.keys()))"
   ]
  },
  {
   "cell_type": "code",
   "execution_count": 145,
   "id": "ec8a05a0",
   "metadata": {},
   "outputs": [
    {
     "name": "stdout",
     "output_type": "stream",
     "text": [
      "100.41900000000001\n",
      "8.2\n",
      "1.5\n",
      "2.8\n",
      "4.3\n",
      "13\n",
      "2.2\n",
      "2\n",
      "6.1\n",
      "7\n",
      "0.15\n",
      "0.77\n",
      "4\n",
      "2.4\n",
      "6.7\n",
      "7.5\n",
      "1.9\n",
      "0.095\n",
      "6\n",
      "6.3\n",
      "9.1\n",
      "2.8\n",
      "0.98\n",
      "2.4\n",
      "0.15\n",
      "2\n",
      "0.074\n",
      "100.41900000000001\n"
     ]
    }
   ],
   "source": [
    "typical_text_frequency = [8.2, 1.5, 2.8, 4.3, 13, 2.2, 2, 6.1, 7, 0.15, 0.77, 4, 2.4, 6.7, 7.5, 1.9, 0.095, 6, 6.3, 9.1, 2.8, 0.98, 2.4, 0.15, 2, 0.074]\n",
    "\n",
    "total = sum(typical_text_frequency)\n",
    "\n",
    "print(total)\n",
    "for t in typical_text_frequency:\n",
    "    print(t)\n",
    "    t = t / total * 100\n",
    "    \n",
    "print(sum(typical_text_frequency))"
   ]
  },
  {
   "cell_type": "code",
   "execution_count": null,
   "id": "36c6e708",
   "metadata": {},
   "outputs": [],
   "source": []
  }
 ],
 "metadata": {
  "kernelspec": {
   "display_name": "Python 3 (ipykernel)",
   "language": "python",
   "name": "python3"
  },
  "language_info": {
   "codemirror_mode": {
    "name": "ipython",
    "version": 3
   },
   "file_extension": ".py",
   "mimetype": "text/x-python",
   "name": "python",
   "nbconvert_exporter": "python",
   "pygments_lexer": "ipython3",
   "version": "3.9.7"
  }
 },
 "nbformat": 4,
 "nbformat_minor": 5
}

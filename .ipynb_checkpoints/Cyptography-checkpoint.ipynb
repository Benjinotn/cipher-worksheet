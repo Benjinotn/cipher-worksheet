{
 "cells": [
  {
   "cell_type": "markdown",
   "id": "c09d12d8",
   "metadata": {},
   "source": [
    "# Welcome to the Encryption Workshop"
   ]
  },
  {
   "cell_type": "markdown",
   "id": "4c487330",
   "metadata": {},
   "source": [
    "## 0.1 Setup Stuff"
   ]
  },
  {
   "cell_type": "code",
   "execution_count": 47,
   "id": "95016690",
   "metadata": {},
   "outputs": [
    {
     "name": "stdout",
     "output_type": "stream",
     "text": [
      "Requirement already satisfied: cryptography in c:\\users\\ben\\anaconda3\\lib\\site-packages (38.0.4)\n",
      "Requirement already satisfied: cffi>=1.12 in c:\\users\\ben\\anaconda3\\lib\\site-packages (from cryptography) (1.15.1)\n",
      "Requirement already satisfied: pycparser in c:\\users\\ben\\anaconda3\\lib\\site-packages (from cffi>=1.12->cryptography) (2.21)\n"
     ]
    }
   ],
   "source": [
    "!pip install cryptography"
   ]
  },
  {
   "cell_type": "code",
   "execution_count": 94,
   "id": "558afaec",
   "metadata": {},
   "outputs": [],
   "source": [
    "%reload_ext autoreload\n",
    "%autoreload 2\n",
    "\n",
    "\n",
    "\n",
    "# Task 1 Dependencies\n",
    "from text_util import *\n",
    "\n",
    "# Task 2 Dependencies\n",
    "from sub_encryption import *\n",
    "from cryptography.fernet import Fernet\n",
    "from Alice import *\n",
    "from PasswordCracker import *\n",
    "import base64\n",
    "# Task 3 Dependencies\n",
    "import matplotlib.pyplot as plt"
   ]
  },
  {
   "cell_type": "markdown",
   "id": "a8c9f1c3",
   "metadata": {},
   "source": [
    "# Task 1.1 - Caesar Ciphers!\n"
   ]
  },
  {
   "cell_type": "markdown",
   "id": "234a512b",
   "metadata": {},
   "source": [
    "### The Romans have ciphered again! It is our objective to find out what the pesky Romans are up to.\n",
    "\n",
    "#### Below is the encryption, loaded from a text file, that we need to decipher. Your guide will help you understand how anciet roman encryption tools work in order to find the answer\n"
   ]
  },
  {
   "cell_type": "code",
   "execution_count": 113,
   "id": "49d08051",
   "metadata": {
    "scrolled": true
   },
   "outputs": [
    {
     "name": "stdout",
     "output_type": "stream",
     "text": [
      "Encrypted Text:\n",
      "\n",
      "gd fc fyb ylwrfgle amldgbclrgyj rm qyw, fc upmrc gr gl agnfcp, rfyr gq, zw qm afylegle rfc mpbcp md rfc jcrrcpq md rfc yjnfyzcr, rfyr lmr y umpb amsjb zc kybc msr.\n"
     ]
    }
   ],
   "source": [
    "task1_text = get_task_text(\"task1\")\n",
    "\n",
    "print(\"Encrypted Text:\\n\")\n",
    "\n",
    "print(task1_text)"
   ]
  },
  {
   "cell_type": "code",
   "execution_count": 114,
   "id": "0864cfa5",
   "metadata": {},
   "outputs": [],
   "source": [
    "# This function will be used to text whether you solution is correct\n",
    "\n",
    "def shift_text(text, shift):\n",
    "    \n",
    "    if not isinstance(shift, int):\n",
    "        print(\"Input must be an number!\")\n",
    "        return\n",
    "    \n",
    "    caesar_text_list = text.split(\" \")\n",
    "    shifted_text = []\n",
    "    \n",
    "    for word in caesar_text_list:\n",
    "        shifted_word = \"\"\n",
    "        for char in word:\n",
    "            if not char.isalnum():\n",
    "                shifted_word += char\n",
    "                continue\n",
    "            if(char.isupper()):\n",
    "                shifted_word += chr((ord(char) + shift - 65) % 26 + 65)\n",
    "            else:\n",
    "                shifted_word += chr((ord(char) + shift - 97) % 26 + 97)\n",
    "        shifted_text.append(shifted_word)\n",
    "        \n",
    "        \n",
    "    return \" \".join(shifted_text)\n"
   ]
  },
  {
   "cell_type": "code",
   "execution_count": 117,
   "id": "8b50e5d0",
   "metadata": {},
   "outputs": [
    {
     "name": "stdout",
     "output_type": "stream",
     "text": [
      "gd fc fyb ylwrfgle amldgbclrgyj rm qyw, fc upmrc gr gl agnfcp, rfyr gq, zw qm afylegle rfc mpbcp md rfc jcrrcpq md rfc yjnfyzcr, rfyr lmr y umpb amsjb zc kybc msr.\n"
     ]
    }
   ],
   "source": [
    "print(shift_text(task1_text, 0))\n",
    "\n"
   ]
  },
  {
   "cell_type": "markdown",
   "id": "a2b79344",
   "metadata": {},
   "source": [
    "# Task 1.2: Social Engineering\n",
    "\n",
    "### Sometimes you cannot break the code, but the information already exists in the public domain!\n",
    "\n",
    "#### Alice has a long password and a difficult hint to remember the password, but with her public online information and help from a password cracker, we can access her valuable information! Hooray!"
   ]
  },
  {
   "cell_type": "code",
   "execution_count": 61,
   "id": "f1690f0a",
   "metadata": {},
   "outputs": [
    {
     "name": "stdout",
     "output_type": "stream",
     "text": [
      "This is an example print statement, you will not need the quotation marks when printing Alice's information\n",
      "my favourite creature + best album + birthyear + Maiden Name, In any order!!!!\n",
      "None\n",
      "Alice Granger Facebook Metadata\n",
      "                  Product Designer\n",
      "                  Lives in California\n",
      "                  Married\n",
      "                  Birthday: 12-03-1992\n",
      "None\n",
      "Alice Watson MySpace Metadata\n",
      "                Account Created - 10-11-2005\n",
      "                About me - HeLlo!! Welcome to my page, This is the place were I share pics of me and Bubbles the cat! \n",
      "                \n",
      "None\n",
      "Alice Granger RateYourMusic Metadata\n",
      "                Thriller - 8/10\n",
      "                Fleetwood Mac - Rumours - 9.2/10\n",
      "                The Beatles - Revolver - 7/10\n",
      "                Prince - Sign 'O' the Times - 8.9/10\n",
      "                50 Cent - Get Rich or Die Trying - 8.4/10\n",
      "                A Tribe Called Quest - Low End Theory - 8.6/10\n",
      "                \n",
      "None\n"
     ]
    }
   ],
   "source": [
    "alice = Alice()\n",
    "\n",
    "# The variable \"Alice\" has attributes that contain vital information to discover her password\n",
    "\n",
    "# By typing \"Alice.\" and pressing tab, you can find these attributes, make sure to print them to the screen!\n",
    "\n",
    "\n",
    "print(\"This is an example print statement, you will not need the quotation marks when printing Alice's information\")\n",
    "\n"
   ]
  },
  {
   "cell_type": "code",
   "execution_count": 64,
   "id": "b828bd64",
   "metadata": {
    "scrolled": true
   },
   "outputs": [
    {
     "name": "stdout",
     "output_type": "stream",
     "text": [
      "Trying the combination: RumoursBubblesWatson1992\n",
      "\n",
      "This combination was incorrect, try again.\n",
      "\n",
      "Trying the combination: RumoursBubbles1992Watson\n",
      "\n",
      "This combination was incorrect, try again.\n",
      "\n",
      "Trying the combination: RumoursWatsonBubbles1992\n",
      "\n",
      "This combination was incorrect, try again.\n",
      "\n",
      "Trying the combination: RumoursWatson1992Bubbles\n",
      "\n",
      "This combination was incorrect, try again.\n",
      "\n",
      "Trying the combination: Rumours1992BubblesWatson\n",
      "\n",
      "This combination was incorrect, try again.\n",
      "\n",
      "Trying the combination: Rumours1992WatsonBubbles\n",
      "\n",
      "This combination was incorrect, try again.\n",
      "\n",
      "Trying the combination: BubblesRumoursWatson1992\n",
      "\n",
      "This combination was incorrect, try again.\n",
      "\n",
      "Trying the combination: BubblesRumours1992Watson\n",
      "\n",
      "Password Accepted, releasing secret key:\n",
      "b'RYmDZnG3dOhiJJk6HGJM5Jiwe6uZmdQHNgDka_3LQd0='\n",
      "\n",
      "\n",
      "\n",
      "\n",
      "\n",
      "b\"I am Alice Granger (formally Alice Watson) and I am going to commit many dubious crimes!!!! However, this information is encrypted so no one will discover my real plans!! HAHA. I'm going to steal the mona lisa and sell it!\"\n"
     ]
    }
   ],
   "source": [
    "\n",
    "%reload_ext autoreload\n",
    "%autoreload 2\n",
    "\n",
    "alices_secret_message = b'gAAAAABkE027pkk_afz0IdZH-A1ohmwvV1OB6FwY2tP59XEAtZXWYYJpEe9yqGnqViyuwYogUY4fOGvjSeoC1ZTBI-bakE1CAuMVOUdSitHfaB_ji22zrWJeh3us0czwdDkIf2ZFEHr-nsmBoJ-ykrqaNi9rPyPn2GDcX1ubRHllNrl2DmUO842STMNr6zkrsQ_QeswCelACVCN2WB9EtdIv1RL4yXCDwbJNoX32-PzZSo7yOcGTuj0RMnmGdHFIoEZXWjTpx2E6MLmT38QHwMj3VROKbfxKZSeD-mTFcIWFBaH4cNVhnskTNmCA2ESfotSu0S_Ud5dkXl09mg_lxFYz23cYtk1pNtd-3Tov4BqLvtZfILUPrps='\n",
    "\n",
    "p = PasswordCracker()\n",
    "\n",
    "p.crack_password([\"\", \"\", \"\", \"\"])\n",
    "\n",
    "# you put the secret key in the Fernet()\n",
    "\n",
    "f = Fernet()\n",
    "\n",
    "alices_secret_message = f.decrypt(alices_secret_message)\n",
    "\n",
    "print(alices_secret_message)\n",
    "\n"
   ]
  },
  {
   "cell_type": "markdown",
   "id": "9f067837",
   "metadata": {},
   "source": [
    "# Task 1.3: Frequency analysis\n",
    "\n",
    "## Sometimes pen and paper doesn't it for decrypting documents, thats where the laws of language come into play\n",
    "\n",
    "#### All text, as its length increases, adheres to a pattern. Letters like E and A are very common, whereas letters like Z and J are very rare. The typical distribution can be compared to the distribution of letters in the decrypted text."
   ]
  },
  {
   "cell_type": "code",
   "execution_count": 104,
   "id": "0864004a",
   "metadata": {},
   "outputs": [
    {
     "name": "stdout",
     "output_type": "stream",
     "text": [
      "{'l': 2.010199400987561, 'r': 11.891206389466015, 'b': 2.466204365775343, 'g': 9.058039448476835, 'c': 1.0226383529856184, 's': 6.92911686139068, 'w': 5.9091767626345755, 'f': 1.8752866895118858, 'k': 5.285880035616955, 'z': 1.3976956908879954, 'x': 9.311675346051103, 'i': 7.51463802919511, 'o': 2.946493618628747, 'h': 6.5162839642751145, 't': 2.3879549931194517, 'q': 4.40355090256604, 'd': 1.475945063543887, 'a': 2.746822805644748, 'u': 1.672917622298373, 'j': 5.501740373978036, 'y': 3.3863090580394486, 'm': 3.6264536844661506, 'v': 0.09983540649199968, 'n': 0.18348128760691831, 'p': 0.07015460996735112, 'e': 0.31029923639405305}\n"
     ]
    },
    {
     "data": {
      "image/png": "[encoded data removed]",
      "text/plain": [
       "<Figure size 640x480 with 1 Axes>"
      ]
     },
     "metadata": {},
     "output_type": "display_data"
    }
   ],
   "source": [
    "typical_letter_frequency = [8.2, 1.5, 2.8, 4.3, 13, 2.2, 2, 6.1, 7, 0.15, 0.77, 4, 2.4, 6.7, 7.5, 1.9, 0.095, 6, 6.3, 9.1, 2.8, 0.98, 2.4, 0.15, 2, 0.074]\n",
    "\n",
    "letter_occurances = {}\n",
    "\n",
    "punc = '''!()-[]{};:'\"\\,<>./?@#$%^&*_~'''\n",
    "\n",
    "allowedCharacters = \"abcdefghijklmnopqrstuvwxyz\";\n",
    "# Removing punctuations in string\n",
    "# Using loop + punctuation string\n",
    "\n",
    "\n",
    "\n",
    "barWidth = 0.5\n",
    " \n",
    "# printing result\n",
    "\n",
    "task3 = get_task_text(\"task3\")\n",
    "\n",
    "for letter in task3:\n",
    "    if not letter.isalpha():\n",
    "        continue\n",
    "    if letter not in letter_occurances:\n",
    "        letter_occurances[letter.lower()] = 1\n",
    "    else:\n",
    "        letter_occurances[letter.lower()] += 1\n",
    "        \n",
    "for letter in allowedCharacters:\n",
    "    if letter not in letter_occurances.keys():\n",
    "        letter_occurances[letter] = 0\n",
    "    \n",
    "size = sum(letter_occurances.values())\n",
    "\n",
    "for key in letter_occurances:\n",
    "    letter_occurances[key] = letter_occurances[key] / size * 100\n",
    "\n",
    "print(letter_occurances)\n",
    "    \n",
    "letter_occurances = {key: value for key, value in sorted(letter_occurances.items())}\n",
    "\n",
    "plt.bar(range(len(letter_occurances)), list(letter_occurances.values()), alpha = 0.5, label = \"Encrypted Text\")\n",
    "plt.bar(range(len(typical_text_frequency)), typical_text_frequency, alpha = 0.5, width = barWidth, label = \"Typical Text\")\n",
    "plt.xticks(range(len(letter_occurances)), list(letter_occurances.keys()))\n",
    "\n",
    "plt.legend()\n",
    "\n",
    "plt.show()"
   ]
  },
  {
   "cell_type": "code",
   "execution_count": 105,
   "id": "01e730ec",
   "metadata": {},
   "outputs": [],
   "source": [
    "# By comparing the letter frequencies, try your best to decipher this sentance\n",
    "task3text = \"mjgg enwj oni khsj xibbjxxziggo ejbneje dktx xjwdjwbj\"\n"
   ]
  }
 ],
 "metadata": {
  "kernelspec": {
   "display_name": "Python 3 (ipykernel)",
   "language": "python",
   "name": "python3"
  },
  "language_info": {
   "codemirror_mode": {
    "name": "ipython",
    "version": 3
   },
   "file_extension": ".py",
   "mimetype": "text/x-python",
   "name": "python",
   "nbconvert_exporter": "python",
   "pygments_lexer": "ipython3",
   "version": "3.9.7"
  }
 },
 "nbformat": 4,
 "nbformat_minor": 5
}

{
 "cells": [
  {
   "cell_type": "markdown",
   "id": "a8c9f1c3",
   "metadata": {},
   "source": [
    "# Task 1 - Caesar Ciphers!\n"
   ]
  },
  {
   "cell_type": "code",
   "execution_count": 66,
   "id": "49d08051",
   "metadata": {},
   "outputs": [],
   "source": [
    "from text_util import *\n",
    "\n",
    "task1_text = get_task_text(\"task1\")"
   ]
  },
  {
   "cell_type": "code",
   "execution_count": 72,
   "id": "3f7cc5c1",
   "metadata": {},
   "outputs": [
    {
     "name": "stdout",
     "output_type": "stream",
     "text": [
      "ur tq tmp mzkftuzs oazrupqzfumx fa emk, tq idafq uf uz oubtqd, ftmf ue, nk ea otmzsuzs ftq adpqd ar ftq xqffqde ar ftq mxbtmnqf, ftmf zaf m iadp oagxp nq ympq agf.\n"
     ]
    }
   ],
   "source": [
    "print(task1_text)"
   ]
  },
  {
   "cell_type": "code",
   "execution_count": 67,
   "id": "0864cfa5",
   "metadata": {},
   "outputs": [],
   "source": [
    "def shift_text(text, shift):\n",
    "    caesar_text_list = text.split(\" \")\n",
    "    shifted_text = []\n",
    "    \n",
    "    for word in caesar_text_list:\n",
    "        shifted_word = \"\"\n",
    "        for char in word:\n",
    "            if not char.isalnum():\n",
    "                shifted_word += char\n",
    "                continue\n",
    "            if(char.isupper()):\n",
    "                shifted_word += chr((ord(char) + shift - 65) % 26 + 65)\n",
    "            else:\n",
    "                shifted_word += chr((ord(char) + shift - 97) % 26 + 97)\n",
    "        shifted_text.append(shifted_word)\n",
    "        \n",
    "        \n",
    "    return \" \".join(shifted_text)\n"
   ]
  },
  {
   "cell_type": "code",
   "execution_count": 76,
   "id": "8b50e5d0",
   "metadata": {},
   "outputs": [
    {
     "name": "stdout",
     "output_type": "stream",
     "text": [
      "if he had anything confidential to say, he wrote it in cipher, that is, by so changing the order of the letters of the alphabet, that not a word could be made out.\n"
     ]
    }
   ],
   "source": [
    "print(shift_text(task1_text, 14))"
   ]
  },
  {
   "cell_type": "code",
   "execution_count": 73,
   "id": "ff48f10f",
   "metadata": {},
   "outputs": [],
   "source": [
    "task2_text = get_task_text(\"task2\")"
   ]
  },
  {
   "cell_type": "code",
   "execution_count": 74,
   "id": "515779f2",
   "metadata": {},
   "outputs": [
    {
     "name": "stdout",
     "output_type": "stream",
     "text": [
      "okawl sziul ykoka isb qlwb, mkciwmbwbua qyszsimscp wosb, iwy yk wsuilky bwlzka scmsysyucb ub oqdkaw wb ykokaw lqpcq qostuq. ub wcsl qy lscsl vwcsql, tusi ckibauy wrwamsbqbskc uooqlmk oqdkasi csis ub qostusz wr wq mkllkyk mkciwtuqb. yusi qubw sauaw ykoka sc awzawxwcywasb sc vkouzbqbw vwosb wiiw msooul ykokaw wu gupsqb cuooq zqasqbua. wrmwzbwua iscb kmmqwmqb muzsyqbqb ckc zaksywcb, iucb sc muozq tus kggsmsq ywiwaucb lkoosb qcsl sy wib oqdkaul\n"
     ]
    }
   ],
   "source": [
    "print(task2_text)"
   ]
  },
  {
   "cell_type": "code",
   "execution_count": 18,
   "id": "a84aa3f5",
   "metadata": {
    "scrolled": true
   },
   "outputs": [
    {
     "name": "stdout",
     "output_type": "stream",
     "text": [
      "26\n"
     ]
    },
    {
     "data": {
      "text/plain": [
       "([<matplotlib.axis.XTick at 0x1aab7193c40>,\n",
       "  <matplotlib.axis.XTick at 0x1aab7193c10>,\n",
       "  <matplotlib.axis.XTick at 0x1aab7193340>,\n",
       "  <matplotlib.axis.XTick at 0x1aab7280a30>,\n",
       "  <matplotlib.axis.XTick at 0x1aab72811c0>,\n",
       "  <matplotlib.axis.XTick at 0x1aab7281910>,\n",
       "  <matplotlib.axis.XTick at 0x1aab7281bb0>,\n",
       "  <matplotlib.axis.XTick at 0x1aab7280a00>,\n",
       "  <matplotlib.axis.XTick at 0x1aab728b5b0>,\n",
       "  <matplotlib.axis.XTick at 0x1aab728bd00>,\n",
       "  <matplotlib.axis.XTick at 0x1aab7296490>,\n",
       "  <matplotlib.axis.XTick at 0x1aab7296be0>,\n",
       "  <matplotlib.axis.XTick at 0x1aab7278370>,\n",
       "  <matplotlib.axis.XTick at 0x1aab7296c40>,\n",
       "  <matplotlib.axis.XTick at 0x1aab728b820>,\n",
       "  <matplotlib.axis.XTick at 0x1aab72780d0>,\n",
       "  <matplotlib.axis.XTick at 0x1aab72880a0>,\n",
       "  <matplotlib.axis.XTick at 0x1aab7288760>,\n",
       "  <matplotlib.axis.XTick at 0x1aab72a5040>,\n",
       "  <matplotlib.axis.XTick at 0x1aab72a5640>,\n",
       "  <matplotlib.axis.XTick at 0x1aab72886d0>,\n",
       "  <matplotlib.axis.XTick at 0x1aab728b220>,\n",
       "  <matplotlib.axis.XTick at 0x1aab72a5a30>,\n",
       "  <matplotlib.axis.XTick at 0x1aab729b1c0>,\n",
       "  <matplotlib.axis.XTick at 0x1aab729b910>,\n",
       "  <matplotlib.axis.XTick at 0x1aab727d0a0>],\n",
       " [Text(0, 0, 'a'),\n",
       "  Text(1, 0, 'b'),\n",
       "  Text(2, 0, 'c'),\n",
       "  Text(3, 0, 'd'),\n",
       "  Text(4, 0, 'e'),\n",
       "  Text(5, 0, 'f'),\n",
       "  Text(6, 0, 'g'),\n",
       "  Text(7, 0, 'h'),\n",
       "  Text(8, 0, 'i'),\n",
       "  Text(9, 0, 'j'),\n",
       "  Text(10, 0, 'k'),\n",
       "  Text(11, 0, 'l'),\n",
       "  Text(12, 0, 'm'),\n",
       "  Text(13, 0, 'n'),\n",
       "  Text(14, 0, 'o'),\n",
       "  Text(15, 0, 'p'),\n",
       "  Text(16, 0, 'q'),\n",
       "  Text(17, 0, 'r'),\n",
       "  Text(18, 0, 's'),\n",
       "  Text(19, 0, 't'),\n",
       "  Text(20, 0, 'u'),\n",
       "  Text(21, 0, 'v'),\n",
       "  Text(22, 0, 'w'),\n",
       "  Text(23, 0, 'x'),\n",
       "  Text(24, 0, 'y'),\n",
       "  Text(25, 0, 'z')])"
      ]
     },
     "execution_count": 18,
     "metadata": {},
     "output_type": "execute_result"
    },
    {
     "data": {
      "image/png": "[encoded data removed]",
      "text/plain": [
       "<Figure size 640x480 with 1 Axes>"
      ]
     },
     "metadata": {},
     "output_type": "display_data"
    }
   ],
   "source": [
    "import matplotlib.pyplot as plt\n",
    "\n",
    "letter_occurances = {key: value for key, value in sorted(letter_occurances.items())}\n",
    "\n",
    "\n",
    "plt.bar(range(len(letter_occurances)), list(letter_occurances.values()), align='center')\n",
    "plt.xticks(range(len(letter_occurances)), list(letter_occurances.keys()))"
   ]
  },
  {
   "cell_type": "code",
   "execution_count": 13,
   "id": "a88d8be3",
   "metadata": {},
   "outputs": [],
   "source": [
    "letter_occurances = {}\n",
    "\n",
    "punc = '''!()-[]{};:'\"\\,<>./?@#$%^&*_~'''\n",
    "\n",
    "allowedCharacters = \"abcdefghijklmnopqrstuvwxyz\";\n",
    "# Removing punctuations in string\n",
    "# Using loop + punctuation string\n",
    "for ele in test_str:\n",
    "    if ele not in allowedCharacters:\n",
    "        test_str = test_str.replace(ele, \"\")\n",
    " \n",
    "# printing result\n",
    "\n",
    "for letter in test_str:\n",
    "    if not letter.isalpha():\n",
    "        continue\n",
    "    if letter not in letter_occurances:\n",
    "        letter_occurances[letter.lower()] = 1\n",
    "    else:\n",
    "        letter_occurances[letter.lower()] += 1\n",
    "        \n",
    "for letter in allowedCharacters:\n",
    "    if letter not in letter_occurances.keys():\n",
    "        letter_occurances[letter] = 0\n",
    "    \n",
    "\n",
    "        \n",
    "size = sum(letter_occurances.values())\n",
    "\n",
    "for key in letter_occurances:\n",
    "    letter_occurances[key] = letter_occurances[key] / size * 100\n",
    "\n",
    "\n",
    "\n",
    "\n"
   ]
  },
  {
   "cell_type": "code",
   "execution_count": 17,
   "id": "ec8a05a0",
   "metadata": {},
   "outputs": [
    {
     "name": "stdout",
     "output_type": "stream",
     "text": [
      "100.41900000000001\n",
      "[8.165785359344344, 1.4937412242703072, 2.78831695197124, 4.282058176241548, 12.945757277009328, 2.1908204622631176, 1.991654965693743, 6.074547645365916, 6.970792379928101, 0.14937412242703071, 0.766787161792091, 3.983309931387486, 2.3899859588324914, 6.672044135074039, 7.468706121351536, 1.8920722174090558, 0.0946036108704528, 5.974964897081229, 6.27371314193529, 9.06203009390653, 2.78831695197124, 0.9759109331899339, 2.3899859588324914, 0.14937412242703071, 1.991654965693743, 0.07369123373066849]\n",
      "26\n"
     ]
    }
   ],
   "source": [
    "typical_text_frequency = [8.2, 1.5, 2.8, 4.3, 13, 2.2, 2, 6.1, 7, 0.15, 0.77, 4, 2.4, 6.7, 7.5, 1.9, 0.095, 6, 6.3, 9.1, 2.8, 0.98, 2.4, 0.15, 2, 0.074]\n",
    "\n",
    "total = sum(typical_text_frequency)\n",
    "\n",
    "print(total)\n",
    "for i in range(0, len(typical_text_frequency)):\n",
    "    typical_text_frequency[i] = typical_text_frequency[i] / total * 100\n",
    "    \n",
    "\n",
    "\n"
   ]
  },
  {
   "cell_type": "code",
   "execution_count": 21,
   "id": "36c6e708",
   "metadata": {},
   "outputs": [
    {
     "data": {
      "text/plain": [
       "([<matplotlib.axis.XTick at 0x1aab6bae370>,\n",
       "  <matplotlib.axis.XTick at 0x1aab6bae340>,\n",
       "  <matplotlib.axis.XTick at 0x1aab70a3fd0>,\n",
       "  <matplotlib.axis.XTick at 0x1aab6b679d0>,\n",
       "  <matplotlib.axis.XTick at 0x1aab6b9b160>,\n",
       "  <matplotlib.axis.XTick at 0x1aab6b67ac0>,\n",
       "  <matplotlib.axis.XTick at 0x1aab6b9ba60>,\n",
       "  <matplotlib.axis.XTick at 0x1aab6cd21f0>,\n",
       "  <matplotlib.axis.XTick at 0x1aab6cd2940>,\n",
       "  <matplotlib.axis.XTick at 0x1aab6cb90d0>,\n",
       "  <matplotlib.axis.XTick at 0x1aab6cb9820>,\n",
       "  <matplotlib.axis.XTick at 0x1aab6cb9c10>,\n",
       "  <matplotlib.axis.XTick at 0x1aab6cd2be0>,\n",
       "  <matplotlib.axis.XTick at 0x1aab6b67610>,\n",
       "  <matplotlib.axis.XTick at 0x1aab6cd8550>,\n",
       "  <matplotlib.axis.XTick at 0x1aab6cd8ca0>,\n",
       "  <matplotlib.axis.XTick at 0x1aab6ca7430>,\n",
       "  <matplotlib.axis.XTick at 0x1aab6ca7b80>,\n",
       "  <matplotlib.axis.XTick at 0x1aab6ca77f0>,\n",
       "  <matplotlib.axis.XTick at 0x1aab6cd8580>,\n",
       "  <matplotlib.axis.XTick at 0x1aab6cdd160>,\n",
       "  <matplotlib.axis.XTick at 0x1aab6cdd820>,\n",
       "  <matplotlib.axis.XTick at 0x1aab6cb6040>,\n",
       "  <matplotlib.axis.XTick at 0x1aab6cb6700>,\n",
       "  <matplotlib.axis.XTick at 0x1aab6cb6e50>,\n",
       "  <matplotlib.axis.XTick at 0x1aab6cb6760>],\n",
       " [Text(0, 0, 'a'),\n",
       "  Text(1, 0, 'b'),\n",
       "  Text(2, 0, 'c'),\n",
       "  Text(3, 0, 'd'),\n",
       "  Text(4, 0, 'e'),\n",
       "  Text(5, 0, 'f'),\n",
       "  Text(6, 0, 'g'),\n",
       "  Text(7, 0, 'h'),\n",
       "  Text(8, 0, 'i'),\n",
       "  Text(9, 0, 'j'),\n",
       "  Text(10, 0, 'k'),\n",
       "  Text(11, 0, 'l'),\n",
       "  Text(12, 0, 'm'),\n",
       "  Text(13, 0, 'n'),\n",
       "  Text(14, 0, 'o'),\n",
       "  Text(15, 0, 'p'),\n",
       "  Text(16, 0, 'q'),\n",
       "  Text(17, 0, 'r'),\n",
       "  Text(18, 0, 's'),\n",
       "  Text(19, 0, 't'),\n",
       "  Text(20, 0, 'u'),\n",
       "  Text(21, 0, 'v'),\n",
       "  Text(22, 0, 'w'),\n",
       "  Text(23, 0, 'x'),\n",
       "  Text(24, 0, 'y'),\n",
       "  Text(25, 0, 'z')])"
      ]
     },
     "execution_count": 21,
     "metadata": {},
     "output_type": "execute_result"
    },
    {
     "data": {
      "image/png": "[encoded data removed]",
      "text/plain": [
       "<Figure size 640x480 with 1 Axes>"
      ]
     },
     "metadata": {},
     "output_type": "display_data"
    }
   ],
   "source": [
    "letter_occurances = {key: value for key, value in sorted(letter_occurances.items())}\n",
    "\n",
    "plt.bar(range(len(letter_occurances)), list(letter_occurances.values()), align='center', alpha = 0.5)\n",
    "\n",
    "plt.bar(range(len(typical_text_frequency)), typical_text_frequency, align='center', alpha = 0.5)\n",
    "plt.xticks(range(len(letter_occurances)), list(letter_occurances.keys()))"
   ]
  },
  {
   "cell_type": "code",
   "execution_count": 57,
   "id": "fb7d08c8",
   "metadata": {},
   "outputs": [
    {
     "name": "stdout",
     "output_type": "stream",
     "text": [
      "The autoreload extension is already loaded. To reload it, use:\n",
      "  %reload_ext autoreload\n",
      "Lorem ipsum dolor sit amet, consectetur adipiscing elit, sed do eiusmod tempor incididunt ut labore et dolore magna aliqua. Ut enim ad minim veniam, quis nostrud exercitation ullamco laboris nisi ut aliquip ex ea commodo consequat. Duis aute irure dolor in reprehenderit in voluptate velit esse cillum dolore eu fugiat nulla pariatur. Excepteur sint occaecat cupidatat non proident, sunt in culpa qui officia deserunt mollit anim id est laborum\n",
      "okawl sziul ykoka isb qlwb, mkciwmbwbua qyszsimscp wosb, iwy yk wsuilky bwlzka scmsysyucb ub oqdkaw wb ykokaw lqpcq qostuq. ub wcsl qy lscsl vwcsql, tusi ckibauy wrwamsbqbskc uooqlmk oqdkasi csis ub qostusz wr wq mkllkyk mkciwtuqb. yusi qubw sauaw ykoka sc awzawxwcywasb sc vkouzbqbw vwosb wiiw msooul ykokaw wu gupsqb cuooq zqasqbua. wrmwzbwua iscb kmmqwmqb muzsyqbqb ckc zaksywcb, iucb sc muozq tus kggsmsq ywiwaucb lkoosb qcsl sy wib oqdkaul\n"
     ]
    },
    {
     "data": {
      "text/plain": [
       "([<matplotlib.axis.XTick at 0x1aab83bb0d0>,\n",
       "  <matplotlib.axis.XTick at 0x1aab83bb0a0>,\n",
       "  <matplotlib.axis.XTick at 0x1aab83a7070>,\n",
       "  <matplotlib.axis.XTick at 0x1aab84496d0>,\n",
       "  <matplotlib.axis.XTick at 0x1aab8449c70>,\n",
       "  <matplotlib.axis.XTick at 0x1aab8455400>,\n",
       "  <matplotlib.axis.XTick at 0x1aab8455b50>,\n",
       "  <matplotlib.axis.XTick at 0x1aab84592e0>,\n",
       "  <matplotlib.axis.XTick at 0x1aab8459a30>,\n",
       "  <matplotlib.axis.XTick at 0x1aab8459d00>,\n",
       "  <matplotlib.axis.XTick at 0x1aab8455c10>,\n",
       "  <matplotlib.axis.XTick at 0x1aab845e0a0>,\n",
       "  <matplotlib.axis.XTick at 0x1aab845e880>,\n",
       "  <matplotlib.axis.XTick at 0x1aab84670a0>,\n",
       "  <matplotlib.axis.XTick at 0x1aab8467760>,\n",
       "  <matplotlib.axis.XTick at 0x1aab846d040>,\n",
       "  <matplotlib.axis.XTick at 0x1aab8467c40>,\n",
       "  <matplotlib.axis.XTick at 0x1aab845e940>,\n",
       "  <matplotlib.axis.XTick at 0x1aab846d520>,\n",
       "  <matplotlib.axis.XTick at 0x1aab846db50>,\n",
       "  <matplotlib.axis.XTick at 0x1aab84762e0>,\n",
       "  <matplotlib.axis.XTick at 0x1aab8476a30>,\n",
       "  <matplotlib.axis.XTick at 0x1aab847c1c0>,\n",
       "  <matplotlib.axis.XTick at 0x1aab84767f0>,\n",
       "  <matplotlib.axis.XTick at 0x1aab8449790>,\n",
       "  <matplotlib.axis.XTick at 0x1aab847c1f0>],\n",
       " [Text(0, 0, 'a'),\n",
       "  Text(1, 0, 'b'),\n",
       "  Text(2, 0, 'c'),\n",
       "  Text(3, 0, 'd'),\n",
       "  Text(4, 0, 'e'),\n",
       "  Text(5, 0, 'f'),\n",
       "  Text(6, 0, 'g'),\n",
       "  Text(7, 0, 'h'),\n",
       "  Text(8, 0, 'i'),\n",
       "  Text(9, 0, 'j'),\n",
       "  Text(10, 0, 'k'),\n",
       "  Text(11, 0, 'l'),\n",
       "  Text(12, 0, 'm'),\n",
       "  Text(13, 0, 'n'),\n",
       "  Text(14, 0, 'o'),\n",
       "  Text(15, 0, 'p'),\n",
       "  Text(16, 0, 'q'),\n",
       "  Text(17, 0, 'r'),\n",
       "  Text(18, 0, 's'),\n",
       "  Text(19, 0, 't'),\n",
       "  Text(20, 0, 'u'),\n",
       "  Text(21, 0, 'v'),\n",
       "  Text(22, 0, 'w'),\n",
       "  Text(23, 0, 'x'),\n",
       "  Text(24, 0, 'y'),\n",
       "  Text(25, 0, 'z')])"
      ]
     },
     "execution_count": 57,
     "metadata": {},
     "output_type": "execute_result"
    },
    {
     "data": {
      "image/png": "[encoded data removed]",
      "text/plain": [
       "<Figure size 640x480 with 1 Axes>"
      ]
     },
     "metadata": {},
     "output_type": "display_data"
    }
   ],
   "source": [
    "%load_ext autoreload\n",
    "%autoreload 2\n",
    "\n",
    "text = \"Lorem ipsum dolor sit amet, consectetur adipiscing elit, sed do eiusmod tempor incididunt ut labore et dolore magna aliqua. Ut enim ad minim veniam, quis nostrud exercitation ullamco laboris nisi ut aliquip ex ea commodo consequat. Duis aute irure dolor in reprehenderit in voluptate velit esse cillum dolore eu fugiat nulla pariatur. Excepteur sint occaecat cupidatat non proident, sunt in culpa qui officia deserunt mollit anim id est laborum\"\n",
    "\n",
    "from sub_encryption import *\n",
    "\n",
    "print(text)\n",
    "encrypted_text = encrypt(text)\n",
    "print(encrypted_text)\n",
    "save(\"task2\", encrypted_text)\n",
    "\n",
    "plt.bar(range(len(letter_occurances)), list(letter_occurances.values()), align='center', alpha = 0.5)\n",
    "\n",
    "plt.bar(range(len(typical_text_frequency)), typical_text_frequency, align='center', alpha = 0.5)\n",
    "plt.xticks(range(len(letter_occurances)), list(letter_occurances.keys()))\n"
   ]
  },
  {
   "cell_type": "code",
   "execution_count": null,
   "id": "8ff76189",
   "metadata": {},
   "outputs": [],
   "source": []
  }
 ],
 "metadata": {
  "kernelspec": {
   "display_name": "Python 3 (ipykernel)",
   "language": "python",
   "name": "python3"
  },
  "language_info": {
   "codemirror_mode": {
    "name": "ipython",
    "version": 3
   },
   "file_extension": ".py",
   "mimetype": "text/x-python",
   "name": "python",
   "nbconvert_exporter": "python",
   "pygments_lexer": "ipython3",
   "version": "3.9.13"
  }
 },
 "nbformat": 4,
 "nbformat_minor": 5
}

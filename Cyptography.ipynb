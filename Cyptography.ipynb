{
 "cells": [
  {
   "cell_type": "markdown",
   "id": "c09d12d8",
   "metadata": {},
   "source": [
    "# Welcome to the Encryption Workshop"
   ]
  },
  {
   "cell_type": "markdown",
   "id": "4c487330",
   "metadata": {},
   "source": [
    "## 0.1 Setup Stuff - You must run these blocks first"
   ]
  },
  {
   "cell_type": "code",
   "execution_count": 43,
   "id": "95016690",
   "metadata": {},
   "outputs": [
    {
     "name": "stdout",
     "output_type": "stream",
     "text": [
      "Requirement already satisfied: cryptography in c:\\users\\ben\\anaconda3\\lib\\site-packages (38.0.4)\n",
      "Requirement already satisfied: cffi>=1.12 in c:\\users\\ben\\anaconda3\\lib\\site-packages (from cryptography) (1.15.1)\n",
      "Requirement already satisfied: pycparser in c:\\users\\ben\\anaconda3\\lib\\site-packages (from cffi>=1.12->cryptography) (2.21)\n"
     ]
    }
   ],
   "source": [
    "!pip install cryptography"
   ]
  },
  {
   "cell_type": "code",
   "execution_count": 44,
   "id": "558afaec",
   "metadata": {},
   "outputs": [],
   "source": [
    "%reload_ext autoreload\n",
    "%autoreload 2\n",
    "\n",
    "\n",
    "\n",
    "# Task 1 Dependencies\n",
    "from text_util import *\n",
    "\n",
    "# Task 2 Dependencies\n",
    "from sub_encryption import *\n",
    "from cryptography.fernet import Fernet\n",
    "from Alice import *\n",
    "from PasswordCracker import *\n",
    "import base64\n",
    "# Task 3 Dependencies\n",
    "import matplotlib.pyplot as plt"
   ]
  },
  {
   "cell_type": "markdown",
   "id": "a8c9f1c3",
   "metadata": {},
   "source": [
    "# Task 1.1 - Caesar Ciphers!\n"
   ]
  },
  {
   "cell_type": "markdown",
   "id": "234a512b",
   "metadata": {},
   "source": [
    "### The Romans have ciphered again! It is our objective to find out what the pesky Romans are up to.\n",
    "\n",
    "#### Below is the encryption, loaded from a text file, that we need to decipher. Your guide will help you understand how anciet roman encryption tools work in order to find the answer.\n",
    "\n",
    "######  if you're really stuck, do what a developer does: google it :)"
   ]
  },
  {
   "cell_type": "code",
   "execution_count": 45,
   "id": "49d08051",
   "metadata": {
    "scrolled": true
   },
   "outputs": [
    {
     "name": "stdout",
     "output_type": "stream",
     "text": [
      "Encrypted Text:\n",
      "\n",
      "li kh kdg dqbwklqj frqilghqwldo wr vdb, kh zurwh lw lq flskhu, wkdw lv, eb vr fkdqjlqj wkh rughu ri wkh ohwwhuv ri wkh doskdehw, wkdw qrw d zrug frxog eh pdgh rxw.\n"
     ]
    }
   ],
   "source": [
    "task1_text = get_task_text(\"task1\")\n",
    "\n",
    "print(\"Encrypted Text:\\n\")\n",
    "\n",
    "print(task1_text)"
   ]
  },
  {
   "cell_type": "code",
   "execution_count": 46,
   "id": "0864cfa5",
   "metadata": {},
   "outputs": [],
   "source": [
    "# This function will be used to text whether you solution is correct\n",
    "\n",
    "def shift_text(text, shift):\n",
    "    \n",
    "    if not isinstance(shift, int):\n",
    "        print(\"Input must be an number!\")\n",
    "        return\n",
    "    \n",
    "    caesar_text_list = text.split(\" \")\n",
    "    shifted_text = []\n",
    "    \n",
    "    for word in caesar_text_list:\n",
    "        shifted_word = \"\"\n",
    "        for char in word:\n",
    "            if not char.isalnum():\n",
    "                shifted_word += char\n",
    "                continue\n",
    "            if(char.isupper()):\n",
    "                shifted_word += chr((ord(char) + shift - 65) % 26 + 65)\n",
    "            else:\n",
    "                shifted_word += chr((ord(char) + shift - 97) % 26 + 97)\n",
    "        shifted_text.append(shifted_word)\n",
    "        \n",
    "        \n",
    "    return \" \".join(shifted_text)\n"
   ]
  },
  {
   "cell_type": "code",
   "execution_count": 49,
   "id": "8b50e5d0",
   "metadata": {},
   "outputs": [
    {
     "name": "stdout",
     "output_type": "stream",
     "text": [
      "li kh kdg dqbwklqj frqilghqwldo wr vdb, kh zurwh lw lq flskhu, wkdw lv, eb vr fkdqjlqj wkh rughu ri wkh ohwwhuv ri wkh doskdehw, wkdw qrw d zrug frxog eh pdgh rxw.\n"
     ]
    }
   ],
   "source": [
    "text = \"if he had anything confidential to say, he wrote it in cipher, that is, by so changing the order of the letters of the alphabet, that not a word could be made out.\"\n",
    "\n",
    "print(shift_text(task1_text, 0))\n",
    "\n"
   ]
  },
  {
   "cell_type": "markdown",
   "id": "a2b79344",
   "metadata": {},
   "source": [
    "# Task 1.2: Social Engineering\n",
    "\n",
    "### Sometimes you cannot break a code, but the password information to decipher it cab be found in the public domain!\n",
    "\n",
    "#### Alice has a long password and a longer hint to remember it, but with her public online information and help from a password cracker, we can access her valuable information! Hooray! Crack Alices Password to decipher her message.\n",
    "\n",
    "##### Below is the first function that shows what Alice's password hint is, use the syntax below to output other parts of her data to deduce what her password can be."
   ]
  },
  {
   "cell_type": "code",
   "execution_count": 42,
   "id": "f1690f0a",
   "metadata": {
    "scrolled": true
   },
   "outputs": [
    {
     "name": "stdout",
     "output_type": "stream",
     "text": [
      "This is an example print statement, you will not need the quotation marks when printing Alice's information\n",
      "\n",
      "\n",
      "my favourite creature + best album + birthyear + Maiden Name, In any order!!!!\n"
     ]
    }
   ],
   "source": [
    "alice = Alice()\n",
    "\n",
    "# The variable \"alice\" has methods that output vital information to discover her password\n",
    "\n",
    "# By typing \"alice.\" and pressing tab, you can find the names of these methods\n",
    "\n",
    "\n",
    "print(\"This is an example print statement, you will not need the quotation marks when printing Alice's information\\n\\n\")\n",
    "\n",
    "\n",
    "\n",
    "alice.show_hint()"
   ]
  },
  {
   "cell_type": "markdown",
   "id": "c96d595c",
   "metadata": {},
   "source": [
    "## Password Cracker\n",
    "\n",
    "### You may have the keywords of the password, but guessing their order would take FOREVER!\n",
    "\n",
    "##### Given you know all 4 key phrases, there are 24 unique combinations, that will take too long to input! By putting these phrases into the \"crack_password\" function, you can test each combination to guess her password faster!"
   ]
  },
  {
   "cell_type": "code",
   "execution_count": 54,
   "id": "b828bd64",
   "metadata": {
    "scrolled": true
   },
   "outputs": [
    {
     "name": "stdout",
     "output_type": "stream",
     "text": [
      "Trying the combination: abcd\n",
      "\n",
      "This combination was incorrect, try again.\n",
      "\n",
      "Trying the combination: abdc\n",
      "\n",
      "This combination was incorrect, try again.\n",
      "\n",
      "Trying the combination: acbd\n",
      "\n",
      "This combination was incorrect, try again.\n",
      "\n",
      "Trying the combination: acdb\n",
      "\n",
      "This combination was incorrect, try again.\n",
      "\n",
      "Trying the combination: adbc\n",
      "\n",
      "This combination was incorrect, try again.\n",
      "\n",
      "Trying the combination: adcb\n",
      "\n",
      "This combination was incorrect, try again.\n",
      "\n",
      "Trying the combination: bacd\n",
      "\n",
      "This combination was incorrect, try again.\n",
      "\n",
      "Trying the combination: badc\n",
      "\n",
      "This combination was incorrect, try again.\n",
      "\n",
      "Trying the combination: bcad\n",
      "\n",
      "This combination was incorrect, try again.\n",
      "\n",
      "Trying the combination: bcda\n",
      "\n",
      "This combination was incorrect, try again.\n",
      "\n",
      "Trying the combination: bdac\n",
      "\n",
      "This combination was incorrect, try again.\n",
      "\n",
      "Trying the combination: bdca\n",
      "\n",
      "This combination was incorrect, try again.\n",
      "\n",
      "Trying the combination: cabd\n",
      "\n",
      "This combination was incorrect, try again.\n",
      "\n",
      "Trying the combination: cadb\n",
      "\n",
      "This combination was incorrect, try again.\n",
      "\n",
      "Trying the combination: cbad\n",
      "\n",
      "This combination was incorrect, try again.\n",
      "\n",
      "Trying the combination: cbda\n",
      "\n",
      "This combination was incorrect, try again.\n",
      "\n",
      "Trying the combination: cdab\n",
      "\n",
      "This combination was incorrect, try again.\n",
      "\n",
      "Trying the combination: cdba\n",
      "\n",
      "This combination was incorrect, try again.\n",
      "\n",
      "Trying the combination: dabc\n",
      "\n",
      "This combination was incorrect, try again.\n",
      "\n",
      "Trying the combination: dacb\n",
      "\n",
      "This combination was incorrect, try again.\n",
      "\n",
      "Trying the combination: dbac\n",
      "\n",
      "This combination was incorrect, try again.\n",
      "\n",
      "Trying the combination: dbca\n",
      "\n",
      "This combination was incorrect, try again.\n",
      "\n",
      "Trying the combination: dcab\n",
      "\n",
      "This combination was incorrect, try again.\n",
      "\n",
      "Trying the combination: dcba\n",
      "\n",
      "This combination was incorrect, try again.\n",
      "\n"
     ]
    },
    {
     "ename": "TypeError",
     "evalue": "__init__() missing 1 required positional argument: 'key'",
     "output_type": "error",
     "traceback": [
      "\u001b[1;31m---------------------------------------------------------------------------\u001b[0m",
      "\u001b[1;31mTypeError\u001b[0m                                 Traceback (most recent call last)",
      "Cell \u001b[1;32mIn[54], line 12\u001b[0m\n\u001b[0;32m      8\u001b[0m p\u001b[38;5;241m.\u001b[39mcrack_password([\u001b[38;5;124m\"\u001b[39m\u001b[38;5;124ma\u001b[39m\u001b[38;5;124m\"\u001b[39m, \u001b[38;5;124m\"\u001b[39m\u001b[38;5;124mb\u001b[39m\u001b[38;5;124m\"\u001b[39m, \u001b[38;5;124m\"\u001b[39m\u001b[38;5;124mc\u001b[39m\u001b[38;5;124m\"\u001b[39m, \u001b[38;5;124m\"\u001b[39m\u001b[38;5;124md\u001b[39m\u001b[38;5;124m\"\u001b[39m])\n\u001b[0;32m     10\u001b[0m \u001b[38;5;66;03m# you put the secret key in the Fernet()\u001b[39;00m\n\u001b[1;32m---> 12\u001b[0m f \u001b[38;5;241m=\u001b[39m \u001b[43mFernet\u001b[49m\u001b[43m(\u001b[49m\u001b[43m)\u001b[49m\n\u001b[0;32m     14\u001b[0m alices_secret_message \u001b[38;5;241m=\u001b[39m f\u001b[38;5;241m.\u001b[39mdecrypt(alices_secret_message)\n\u001b[0;32m     16\u001b[0m \u001b[38;5;28mprint\u001b[39m(alices_secret_message)\n",
      "\u001b[1;31mTypeError\u001b[0m: __init__() missing 1 required positional argument: 'key'"
     ]
    }
   ],
   "source": [
    "\n",
    "%reload_ext autoreload\n",
    "%autoreload 2\n",
    "\n",
    "alices_secret_message = b'gAAAAABkE027pkk_afz0IdZH-A1ohmwvV1OB6FwY2tP59XEAtZXWYYJpEe9yqGnqViyuwYogUY4fOGvjSeoC1ZTBI-bakE1CAuMVOUdSitHfaB_ji22zrWJeh3us0czwdDkIf2ZFEHr-nsmBoJ-ykrqaNi9rPyPn2GDcX1ubRHllNrl2DmUO842STMNr6zkrsQ_QeswCelACVCN2WB9EtdIv1RL4yXCDwbJNoX32-PzZSo7yOcGTuj0RMnmGdHFIoEZXWjTpx2E6MLmT38QHwMj3VROKbfxKZSeD-mTFcIWFBaH4cNVhnskTNmCA2ESfotSu0S_Ud5dkXl09mg_lxFYz23cYtk1pNtd-3Tov4BqLvtZfILUPrps='\n",
    "\n",
    "p = PasswordCracker()\n",
    "\n",
    "p.crack_password([\"a\", \"b\", \"c\", \"d\"])\n",
    "\n",
    "# you put the secret key in the Fernet()\n",
    "\n",
    "f = Fernet()\n",
    "\n",
    "alices_secret_message = f.decrypt(alices_secret_message)\n",
    "\n",
    "print(alices_secret_message)\n",
    "\n"
   ]
  },
  {
   "cell_type": "markdown",
   "id": "9f067837",
   "metadata": {},
   "source": [
    "# Task 1.3: Frequency analysis\n",
    "\n",
    "## Sometimes pen and paper alone doesn't cut it for decrypting documents, thats where frequency analysis comes into play\n",
    "\n",
    "#### All text, as its length increases, adheres to a pattern. Letters like E and A are very common, whereas letters like Z and J are very rare. The \"typical\" distribution can be compared to the distribution of letters in the encrypted text, if it is large enough.\n",
    "\n",
    "##### Below is a graph that shows the typical letter frequency calculated through 100s of books, compared to the letter frequency of our large encrypted text (labeled task3). Since we have so much encrypted text, we can try and match the occurances of certain letters and crack the code."
   ]
  },
  {
   "cell_type": "code",
   "execution_count": 55,
   "id": "0864004a",
   "metadata": {},
   "outputs": [
    {
     "data": {
      "image/png": "[encoded data removed]",
      "text/plain": [
       "<Figure size 640x480 with 1 Axes>"
      ]
     },
     "metadata": {},
     "output_type": "display_data"
    }
   ],
   "source": [
    "typical_letter_frequency = [8.2, 1.5, 2.8, 4.3, 13, 2.2, 2, 6.1, 7, 0.15, 0.77, 4, 2.4, 6.7, 7.5, 1.9, 0.095, 6, 6.3, 9.1, 2.8, 0.98, 2.4, 0.15, 2, 0.074]\n",
    "\n",
    "letter_occurances = {}\n",
    "\n",
    "punc = '''!()-[]{};:'\"\\,<>./?@#$%^&*_~'''\n",
    "\n",
    "allowedCharacters = \"abcdefghijklmnopqrstuvwxyz\";\n",
    "# Removing punctuations in string\n",
    "# Using loop + punctuation string\n",
    "\n",
    "barWidth = 0.5\n",
    " \n",
    "# printing result\n",
    "\n",
    "task3 = get_task_text(\"task3\")\n",
    "\n",
    "for letter in task3:\n",
    "    if not letter.isalpha():\n",
    "        continue\n",
    "    if letter not in letter_occurances:\n",
    "        letter_occurances[letter.lower()] = 1\n",
    "    else:\n",
    "        letter_occurances[letter.lower()] += 1\n",
    "        \n",
    "for letter in allowedCharacters:\n",
    "    if letter not in letter_occurances.keys():\n",
    "        letter_occurances[letter] = 0\n",
    "    \n",
    "size = sum(letter_occurances.values())\n",
    "\n",
    "for key in letter_occurances:\n",
    "    letter_occurances[key] = letter_occurances[key] / size * 100\n",
    "\n",
    "    \n",
    "letter_occurances = {key: value for key, value in sorted(letter_occurances.items())}\n",
    "\n",
    "plt.bar(range(len(letter_occurances)), list(letter_occurances.values()), alpha = 0.5, label = \"Encrypted Text\")\n",
    "plt.bar(range(len(typical_letter_frequency)), typical_letter_frequency, alpha = 0.5, width = barWidth, label = \"Typical Text\")\n",
    "plt.xticks(range(len(letter_occurances)), list(letter_occurances.keys()))\n",
    "\n",
    "plt.title('Comparison of letter frequency of Encrypted Text vs Typical Text')\n",
    "plt.legend()\n",
    "\n",
    "plt.show()"
   ]
  },
  {
   "cell_type": "code",
   "execution_count": 32,
   "id": "01e730ec",
   "metadata": {},
   "outputs": [],
   "source": [
    "# By comparing the letter frequencies, try your best to decipher this sentance\n",
    "task3text = \"mftt iylf, gys bqjf zsvvfzzxsttg ifvyifi dbuz afzzqhf, dbf zfvrfd kbrqzf uz qtkbq tfasr qtkbq lyjfanfr.\"\n"
   ]
  }
 ],
 "metadata": {
  "kernelspec": {
   "display_name": "Python 3 (ipykernel)",
   "language": "python",
   "name": "python3"
  },
  "language_info": {
   "codemirror_mode": {
    "name": "ipython",
    "version": 3
   },
   "file_extension": ".py",
   "mimetype": "text/x-python",
   "name": "python",
   "nbconvert_exporter": "python",
   "pygments_lexer": "ipython3",
   "version": "3.9.7"
  }
 },
 "nbformat": 4,
 "nbformat_minor": 5
}
